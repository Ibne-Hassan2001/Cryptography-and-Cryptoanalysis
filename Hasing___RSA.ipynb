{
  "nbformat": 4,
  "nbformat_minor": 0,
  "metadata": {
    "colab": {
      "provenance": []
    },
    "kernelspec": {
      "name": "python3",
      "display_name": "Python 3"
    },
    "language_info": {
      "name": "python"
    }
  },
  "cells": [
    {
      "cell_type": "markdown",
      "source": [
        "# Hashing"
      ],
      "metadata": {
        "id": "JGfliRpGPNM8"
      }
    },
    {
      "cell_type": "code",
      "execution_count": 3,
      "metadata": {
        "colab": {
          "base_uri": "https://localhost:8080/"
        },
        "id": "YrV9WshMpiyT",
        "outputId": "c0dad79a-d475-4544-a7ee-0cbd0edd3763"
      },
      "outputs": [
        {
          "output_type": "stream",
          "name": "stdout",
          "text": [
            "64ef07ce3e4b420c334227eecb3b3f4c\n",
            "b584eec728548aced5a66c0267dd520a00871b5e7b735b2d8202f86719f61857\n",
            "1dbb2224e5108b80246acacd67afa3304c023c467a4a5b4d3c3aaf97508ab11208b5635a7d759a7cacac4e688141dedb953030f364ceff54d9b7f34813e2ca20\n",
            "b804ec5a0d83d19d8db908572f51196505d09f98\n"
          ]
        }
      ],
      "source": [
        "import hashlib\n",
        "\n",
        "md5 = hashlib.md5(b'Cryptography')\n",
        "sha256 = hashlib.sha256(b'Cryptography')\n",
        "sha512 = hashlib.sha512(b'Cryptography')\n",
        "sha1 = hashlib.sha1(b'Cryptography')\n",
        "\n",
        "print(md5.hexdigest())\n",
        "print(sha256.hexdigest())\n",
        "print(sha512.hexdigest())\n",
        "print(sha1.hexdigest())"
      ]
    },
    {
      "cell_type": "markdown",
      "source": [
        "# Create MD5 Hash of a file"
      ],
      "metadata": {
        "id": "RLfgCsAGFFh9"
      }
    },
    {
      "cell_type": "code",
      "source": [
        "print(hashlib.md5(\"passlist.txt\".encode('UTF-8')).hexdigest())"
      ],
      "metadata": {
        "colab": {
          "base_uri": "https://localhost:8080/"
        },
        "id": "sjes1PbMDmVh",
        "outputId": "c147ceb2-278d-4733-e408-04af35642729"
      },
      "execution_count": 3,
      "outputs": [
        {
          "output_type": "stream",
          "name": "stdout",
          "text": [
            "aaa96b80151e59ec5f389c55be30443a\n"
          ]
        }
      ]
    },
    {
      "cell_type": "code",
      "source": [
        "file_name = '/content/passlist.txt'\n",
        "\n",
        "with open(file_name) as f:\n",
        "    data = f.read()\n",
        "    md5hash = hashlib.md5(data.encode('UTF-8')).hexdigest()\n",
        "print(md5hash)"
      ],
      "metadata": {
        "colab": {
          "base_uri": "https://localhost:8080/"
        },
        "id": "X85RHo8HFMu4",
        "outputId": "213754ec-a458-4c0d-bd85-f31be122ff06"
      },
      "execution_count": 4,
      "outputs": [
        {
          "output_type": "stream",
          "name": "stdout",
          "text": [
            "abf0076950fb6d72ae175f91581c3373\n"
          ]
        }
      ]
    },
    {
      "cell_type": "markdown",
      "source": [
        "# Task 1"
      ],
      "metadata": {
        "id": "YGfX02Z6JghK"
      }
    },
    {
      "cell_type": "code",
      "source": [
        "class Admin:\n",
        "\n",
        "  def __init__(self):\n",
        "    self.username = 'admin'\n",
        "    self.password = '8062dc84e0faa9e553192841432d4836208f700d43f3b68a53cc30ad4b7b3464'\n",
        "\n",
        "  def login(self,username,password):\n",
        "    if username == self.username and password == self.password:\n",
        "      return \"Login successful\"\n",
        "    else:\n",
        "      return \"Wrong password. Please try again\""
      ],
      "metadata": {
        "id": "QHlz-TqwC-5d"
      },
      "execution_count": 15,
      "outputs": []
    },
    {
      "cell_type": "code",
      "source": [
        "user = Admin()\n",
        "user.login(\"admin\",\"8062dc84e0faa9e553192841432d4836208f700d43f3b68a53cc30ad4b7b3464\")"
      ],
      "metadata": {
        "colab": {
          "base_uri": "https://localhost:8080/",
          "height": 35
        },
        "id": "2v0RlwdgvSDV",
        "outputId": "b8e2c929-bcf5-4df3-cd10-d96edd188094"
      },
      "execution_count": 16,
      "outputs": [
        {
          "output_type": "execute_result",
          "data": {
            "text/plain": [
              "'Login successful'"
            ],
            "application/vnd.google.colaboratory.intrinsic+json": {
              "type": "string"
            }
          },
          "metadata": {},
          "execution_count": 16
        }
      ]
    },
    {
      "cell_type": "markdown",
      "source": [
        "Your task is to find the plaintext password using dictionary attack.\n",
        "Download password list: https://drive.google.com/file/d/1tqoWvRJu1h1uOfsxXiJ6G_ccY6DdsV_9/view?usp=share_link"
      ],
      "metadata": {
        "id": "yAtkOtlwEfdE"
      }
    },
    {
      "cell_type": "code",
      "source": [
        "file1 = open('/content/passlist.txt', 'r')\n",
        "# data=\"123456\"\n",
        "# md5hash = hashlib.sha256(data.encode('UTF-8')).hexdigest()\n",
        "# md5hash = str(md5hash)\n",
        "# print(md5hash)\n",
        "\n",
        "while True:\n",
        "    data =  file1.readline().replace('\\n', '')\n",
        "    if not data:\n",
        "        break\n",
        "    md5hash = hashlib.sha256(data.encode('UTF-8')).hexdigest()\n",
        "    md5hash=str(md5hash)\n",
        "\n",
        "    info  =  user.login('admin',md5hash)\n",
        "\n",
        "    if(info == \"Login successful\" ) :\n",
        "      print(data)\n",
        "\n",
        "\n",
        "\n"
      ],
      "metadata": {
        "id": "-tQDprrcPUKa",
        "colab": {
          "base_uri": "https://localhost:8080/"
        },
        "outputId": "3e44ab73-cf3c-4a52-bae7-65407d206b57"
      },
      "execution_count": 17,
      "outputs": [
        {
          "output_type": "stream",
          "name": "stdout",
          "text": [
            "B2bFmZZw9W56h2Z\n"
          ]
        }
      ]
    },
    {
      "cell_type": "markdown",
      "source": [
        "# RSA"
      ],
      "metadata": {
        "id": "SN8H1wkXPXZ9"
      }
    },
    {
      "cell_type": "code",
      "source": [
        "import math\n",
        "m = 119\n",
        "p = 29\n",
        "q = 31\n",
        "n = p * q #899\n",
        "phi = (p-1) * (q-1) #840\n",
        "e = 11\n",
        "def d(e,phi):\n",
        "  for i in range(1,phi):\n",
        "    if(e*i%phi==1):\n",
        "      return i\n",
        "\n",
        "print(\"d =\",d(e,phi))\n",
        "c = m ** e % n\n",
        "print(\"Encrypted message =\",c)"
      ],
      "metadata": {
        "colab": {
          "base_uri": "https://localhost:8080/"
        },
        "id": "Flep_Z78Pak0",
        "outputId": "2b80511e-27c9-4781-c4c8-8125a8c54a09"
      },
      "execution_count": 20,
      "outputs": [
        {
          "output_type": "stream",
          "name": "stdout",
          "text": [
            "d = 611\n",
            "Encrypted message = 595\n"
          ]
        }
      ]
    },
    {
      "cell_type": "code",
      "source": [
        "from secrets import randbits, randbelow\n",
        "from sympy import nextprime\n",
        "from sympy.ntheory.modular import crt\n",
        "import numpy as np\n",
        "N = [33, 35, 247]\n",
        "c = [29, 13, 220]\n",
        "x = crt(N, c)[0]\n",
        "\n",
        "print(np.cbrt(x))"
      ],
      "metadata": {
        "colab": {
          "base_uri": "https://localhost:8080/"
        },
        "id": "pXrqUlZ5b9Rv",
        "outputId": "d7545754-e049-40ae-e49b-70e7bdd50878"
      },
      "execution_count": 21,
      "outputs": [
        {
          "output_type": "stream",
          "name": "stdout",
          "text": [
            "17.000000000000004\n"
          ]
        }
      ]
    },
    {
      "cell_type": "code",
      "source": [
        "c = 595\n",
        "d = 611\n",
        "n = 899\n",
        "\n",
        "m = c ** d % n\n",
        "print(\"Decrypted message =\",m)"
      ],
      "metadata": {
        "colab": {
          "base_uri": "https://localhost:8080/"
        },
        "id": "yzmTWwQZbSLI",
        "outputId": "11c9d499-e5fc-4cd1-e8c3-dae3171036cc"
      },
      "execution_count": 22,
      "outputs": [
        {
          "output_type": "stream",
          "name": "stdout",
          "text": [
            "Decrypted message = 119\n"
          ]
        }
      ]
    },
    {
      "cell_type": "code",
      "source": [
        "#Perform small exponent attack (cube root attack) here"
      ],
      "metadata": {
        "id": "XTJ_v1keiVmz"
      },
      "execution_count": null,
      "outputs": []
    }
  ]
}