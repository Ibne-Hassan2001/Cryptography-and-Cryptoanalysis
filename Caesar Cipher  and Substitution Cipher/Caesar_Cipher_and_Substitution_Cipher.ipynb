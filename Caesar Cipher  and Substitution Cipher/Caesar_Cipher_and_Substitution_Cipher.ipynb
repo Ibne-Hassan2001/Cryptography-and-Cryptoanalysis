{
  "nbformat": 4,
  "nbformat_minor": 0,
  "metadata": {
    "colab": {
      "provenance": []
    },
    "kernelspec": {
      "name": "python3",
      "display_name": "Python 3"
    },
    "language_info": {
      "name": "python"
    }
  },
  "cells": [
    {
      "cell_type": "markdown",
      "source": [
        "# Caesar Cipher"
      ],
      "metadata": {
        "id": "1wOocgMlVig-"
      }
    },
    {
      "cell_type": "code",
      "source": [
        "def decrypt_shift_cipher(ciphertext, key):\n",
        "  P_T = ''\n",
        "  for i in ciphertext:\n",
        "    if i!=\" \" :\n",
        "        v =  (ord(i) - key )%26\n",
        "        if(v>=65) :\n",
        "          P_T +=  chr(v)\n",
        "        else :\n",
        "          while(v<65):\n",
        "            v+=26\n",
        "          P_T +=  chr(v)\n",
        "    else :\n",
        "      P_T += \" \"\n",
        "  return P_T"
      ],
      "metadata": {
        "id": "DeTQVJUm2hm0"
      },
      "execution_count": 1,
      "outputs": []
    },
    {
      "cell_type": "code",
      "source": [
        "print(157%26)"
      ],
      "metadata": {
        "colab": {
          "base_uri": "https://localhost:8080/",
          "height": 0
        },
        "id": "yBul3wtP4kY1",
        "outputId": "cf7efe83-e272-4ce2-ef80-579863c3c762"
      },
      "execution_count": 2,
      "outputs": [
        {
          "output_type": "stream",
          "name": "stdout",
          "text": [
            "1\n"
          ]
        }
      ]
    },
    {
      "cell_type": "code",
      "execution_count": 3,
      "metadata": {
        "id": "mCabVhcQz0bV"
      },
      "outputs": [],
      "source": [
        "def encrypt_shift_cipher(plaintext, key):\n",
        "  P_T = ''\n",
        "  for i in plaintext:\n",
        "    if i!=\" \" :\n",
        "        v =  (ord(i) + key )%26\n",
        "        if(v>=65) :\n",
        "          P_T +=  chr(v)\n",
        "        else :\n",
        "          while(v<65):\n",
        "            v+=26\n",
        "          P_T +=  chr(v)\n",
        "    else :\n",
        "      P_T += \" \"\n",
        "  return P_T"
      ]
    },
    {
      "cell_type": "code",
      "source": [
        "#Decrypt the following text and find out the value of the key using the decrypt_shift_cipher() method.\n",
        "# ciphertext = \"KYV HLZTB SIFNE WFO\"\n",
        "# ciphertext =  \"D\"\n",
        "ciphertext = \"DWWDFN\"\n",
        "for i in range(26):\n",
        "  print(decrypt_shift_cipher(ciphertext, i))"
      ],
      "metadata": {
        "id": "dBQ7hHE_20uH",
        "collapsed": true,
        "colab": {
          "base_uri": "https://localhost:8080/",
          "height": 0
        },
        "outputId": "9394af8f-7349-401f-a598-e1e463aba660"
      },
      "execution_count": 5,
      "outputs": [
        {
          "output_type": "stream",
          "name": "stdout",
          "text": [
            "DWWDFN\n",
            "CVVCEM\n",
            "BUUBDL\n",
            "ATTACK\n",
            "ZSSZBJ\n",
            "YRRYAI\n",
            "XQQXZH\n",
            "WPPWYG\n",
            "VOOVXF\n",
            "UNNUWE\n",
            "TMMTVD\n",
            "SLLSUC\n",
            "RKKRTB\n",
            "QJJQSA\n",
            "PIIPRZ\n",
            "OHHOQY\n",
            "NGGNPX\n",
            "MFFMOW\n",
            "LEELNV\n",
            "KDDKMU\n",
            "JCCJLT\n",
            "IBBIKS\n",
            "HAAHJR\n",
            "GZZGIQ\n",
            "FYYFHP\n",
            "EXXEGO\n"
          ]
        }
      ]
    },
    {
      "cell_type": "code",
      "source": [
        "#Encrypt the following plaintext, using the summation of last 2 digits of your ID as the key\n",
        "#plaintext = \"I am Batman\"\n",
        "plaintext = \"ATTACK\"\n",
        "for i in range(26):\n",
        "  print(encrypt_shift_cipher(plaintext, i))"
      ],
      "metadata": {
        "id": "YWqRQMF3455I",
        "colab": {
          "base_uri": "https://localhost:8080/",
          "height": 0
        },
        "outputId": "043222c8-9109-4226-bb93-f71e54e2dfac"
      },
      "execution_count": 6,
      "outputs": [
        {
          "output_type": "stream",
          "name": "stdout",
          "text": [
            "ATTACK\n",
            "BUUBDL\n",
            "CVVCEM\n",
            "DWWDFN\n",
            "EXXEGO\n",
            "FYYFHP\n",
            "GZZGIQ\n",
            "HAAHJR\n",
            "IBBIKS\n",
            "JCCJLT\n",
            "KDDKMU\n",
            "LEELNV\n",
            "MFFMOW\n",
            "NGGNPX\n",
            "OHHOQY\n",
            "PIIPRZ\n",
            "QJJQSA\n",
            "RKKRTB\n",
            "SLLSUC\n",
            "TMMTVD\n",
            "UNNUWE\n",
            "VOOVXF\n",
            "WPPWYG\n",
            "XQQXZH\n",
            "YRRYAI\n",
            "ZSSZBJ\n"
          ]
        }
      ]
    },
    {
      "cell_type": "markdown",
      "source": [
        "# Substitution Cipher"
      ],
      "metadata": {
        "id": "RqFWriJBVoDO"
      }
    },
    {
      "cell_type": "code",
      "source": [
        "import pandas as pd\n",
        "def frequency_table(text):\n",
        "  table = []\n",
        "  count = 0\n",
        "  for i in text:\n",
        "    if i in 'qwertyuiopasdfghjklzxcvbnm':\n",
        "      count += 1\n",
        "  for i in range(97,123):\n",
        "    table.append(text.count(chr(i))/count)\n",
        "  index = [i[0] for i in sorted(enumerate(table), key=lambda x:x[1])][::-1]\n",
        "  for i in index:\n",
        "    print(chr(97+i)+\":\"+str(table[i]))"
      ],
      "metadata": {
        "id": "ZwImnQeYVtGE"
      },
      "execution_count": 7,
      "outputs": []
    },
    {
      "cell_type": "code",
      "source": [
        "ciphertext = \"awbix ildxz kolf a dkzeplld afu zbjjbfm lf bj bz a rwkx iajxpobwwap zdlgbfm a ellgae. jex iajxpobwwap ykxzjblfz awbix afu zex audbjz jl exp ikppxfj buxfjbjt ipbzbz, ildolkfuxu rt exp bfarbwbjt jl pxdxdrxp a olxd. rxnlpx ipahwbfm ahat, jex iajxpobwwap jxwwz awbix jeaj lfx zbux ln jex dkzeplld hbww dagx exp jawwxp afu jex ljexp zbux hbww dagx exp zelpjxp. zex rpxagz lnn jhl obxixz npld jex dkzeplld. lfx zbux dagxz exp zepbfg zdawwxp jeaf xcxp, hebwx afljexp iakzxz exp fxig jl mplh ebme bfjl jex jpxxz, hexpx a obmxlf dbzjagxz exp nlp a zxpoxfj. hbje zldx xnnlpj, awbix rpbfmz expzxwn raig jl exp kzkaw exbmej. zex zjkdrwxz kolf a zdaww xzjajx afu kzxz jex dkzeplld jl pxaie a dlpx aooplopbajx exbmej.\"\n",
        "frequency_table(ciphertext)"
      ],
      "metadata": {
        "id": "2R-LMVH-brn3",
        "colab": {
          "base_uri": "https://localhost:8080/",
          "height": 0
        },
        "outputId": "b1ecdef4-4186-4784-ade4-d0805f42d874"
      },
      "execution_count": 8,
      "outputs": [
        {
          "output_type": "stream",
          "name": "stdout",
          "text": [
            "x:0.140597539543058\n",
            "p:0.08260105448154657\n",
            "a:0.08084358523725835\n",
            "j:0.07908611599297012\n",
            "z:0.07381370826010544\n",
            "l:0.07381370826010544\n",
            "e:0.07205623901581722\n",
            "b:0.06854130052724078\n",
            "w:0.050966608084358524\n",
            "f:0.043936731107205626\n",
            "d:0.043936731107205626\n",
            "i:0.029876977152899824\n",
            "k:0.026362038664323375\n",
            "o:0.022847100175746926\n",
            "u:0.019332161687170474\n",
            "g:0.01757469244288225\n",
            "r:0.015817223198594025\n",
            "n:0.015817223198594025\n",
            "m:0.015817223198594025\n",
            "h:0.015817223198594025\n",
            "t:0.007029876977152899\n",
            "y:0.0017574692442882249\n",
            "c:0.0017574692442882249\n",
            "v:0.0\n",
            "s:0.0\n",
            "q:0.0\n"
          ]
        }
      ]
    },
    {
      "cell_type": "code",
      "source": [
        "ciphertext = \"awbix ildxz kolf a dkzeplld afu zbjjbfm lf bj bz a rwkx iajxpobwwap zdlgbfm a ellgae.\\n jex iajxpobwwap ykxzjblfz awbix afu zex audbjz jl exp ikppxfj buxfjbjt ipbzbz, ildolkfuxu rt exp bfarbwbjt jl pxdxdrxp a olxd.\\n rxnlpx ipahwbfm ahat, jex iajxpobwwap jxwwz awbix jeaj lfx zbux ln jex dkzeplld hbww dagx exp jawwxp afu jex ljexp zbux hbww dagx exp zelpjxp.\\n zex rpxagz lnn jhl obxixz npld jex dkzeplld.\\n lfx zbux dagxz exp zepbfg zdawwxp jeaf xcxp, hebwx afljexp iakzxz exp fxig jl mplh ebme bfjl jex jpxxz, hexpx a obmxlf dbzjagxz exp nlp a zxpoxfj.\\n hbje zldx xnnlpj, awbix rpbfmz expzxwn raig jl exp kzkaw exbmej.\\n zex zjkdrwxz kolf a zdaww xzjajx afu kzxz jex dkzeplld jl pxaie a dlpx aooplopbajx exbmej.\"\n",
        "ciphertext = ciphertext.replace(\"x\",\"E\")\n",
        "ciphertext = ciphertext.replace(\"a\",\"A\")\n",
        "ciphertext = ciphertext.replace(\"j\",\"T\")\n",
        "ciphertext = ciphertext.replace(\"e\",\"H\")\n",
        "ciphertext = ciphertext.replace(\"p\",\"R\")\n",
        "ciphertext = ciphertext.replace(\"l\",\"O\")\n",
        "ciphertext = ciphertext.replace(\"z\",\"S\")\n",
        "ciphertext = ciphertext.replace(\"d\",\"M\")\n",
        "ciphertext = ciphertext.replace(\"r\",\"B\")\n",
        "ciphertext = ciphertext.replace(\"c\",\"V\")\n",
        "ciphertext = ciphertext.replace(\"i\",\"C\")\n",
        "ciphertext = ciphertext.replace(\"g\",\"K\")\n",
        "ciphertext = ciphertext.replace(\"o\",\"P\")\n",
        "ciphertext = ciphertext.replace(\"b\",\"I\")\n",
        "ciphertext = ciphertext.replace(\"h\",\"W\")\n",
        "ciphertext = ciphertext.replace(\"f\",\"N\")\n",
        "ciphertext = ciphertext.replace(\"w\",\"L\")\n",
        "ciphertext = ciphertext.replace(\"u\",\"D\")\n",
        "ciphertext = ciphertext.replace(\"t\",\"Y\")\n",
        "ciphertext = ciphertext.replace(\"n\",\"F\")\n",
        "ciphertext = ciphertext.replace(\"k\",\"U\")\n",
        "print(ciphertext)\n"
      ],
      "metadata": {
        "id": "B2wtNETpfajr",
        "colab": {
          "base_uri": "https://localhost:8080/",
          "height": 0
        },
        "outputId": "4ef273a1-d98f-42e5-e833-0f938893f63b"
      },
      "execution_count": 9,
      "outputs": [
        {
          "output_type": "stream",
          "name": "stdout",
          "text": [
            "ALICE COMES UPON A MUSHROOM AND SITTINm ON IT IS A BLUE CATERPILLAR SMOKINm A HOOKAH.\n",
            " THE CATERPILLAR yUESTIONS ALICE AND SHE ADMITS TO HER CURRENT IDENTITY CRISIS, COMPOUNDED BY HER INABILITY TO REMEMBER A POEM.\n",
            " BEFORE CRAWLINm AWAY, THE CATERPILLAR TELLS ALICE THAT ONE SIDE OF THE MUSHROOM WILL MAKE HER TALLER AND THE OTHER SIDE WILL MAKE HER SHORTER.\n",
            " SHE BREAKS OFF TWO PIECES FROM THE MUSHROOM.\n",
            " ONE SIDE MAKES HER SHRINK SMALLER THAN EVER, WHILE ANOTHER CAUSES HER NECK TO mROW HImH INTO THE TREES, WHERE A PImEON MISTAKES HER FOR A SERPENT.\n",
            " WITH SOME EFFORT, ALICE BRINmS HERSELF BACK TO HER USUAL HEImHT.\n",
            " SHE STUMBLES UPON A SMALL ESTATE AND USES THE MUSHROOM TO REACH A MORE APPROPRIATE HEImHT.\n"
          ]
        }
      ]
    },
    {
      "cell_type": "code",
      "source": [
        "#decrypt the following ciphertext\n",
        "ciphertext = \"dkxyvrh 1 - qegt vkr hxccwv keur: xuwdr wn cehrq nwvvwtp et vkr hwsrhcxto gwvk krh nwnvrh, gkrt nkr tevwdrn x vxuowtp, duevkrq gkwvr hxccwv gwvk x yedorv gxvdk hit yxnv.\\nnkr leuuegn wv qegt x hxccwv keur gkrt niqqrtub nkr lxuun x uetp gxb ve x dihwein kxuu gwvk fxtb uedorq qeehn el xuu nwmrn.\\nnkr lwtqn x nfxuu orb ve x qeeh vee nfxuu leh krh ve lwv, civ vkheipk gkwdk nkr nrrn xt xvvhxdvwsr pxhqrt.\\nnkr vkrt qwndesrhn x cevvur uxcruurq 'qhwto fr', vkr detvrtvn el gkwdk dxinr krh ve nkhwto vee nfxuu ve hrxdk vkr orb.\\nx dxor gwvk 'rxv fr' et wv dxinrn krh ve pheg ve nidk x vhrfrtqein nwmr krh krxq kwvn vkr drwuwtp.\"\n",
        "frequency_table(ciphertext)"
      ],
      "metadata": {
        "id": "YOaQPWAviPQD",
        "colab": {
          "base_uri": "https://localhost:8080/",
          "height": 0
        },
        "outputId": "b5ec2986-b537-4f78-9ab5-3ca145c617b3"
      },
      "execution_count": 10,
      "outputs": [
        {
          "output_type": "stream",
          "name": "stdout",
          "text": [
            "r:0.11618257261410789\n",
            "v:0.0995850622406639\n",
            "k:0.08506224066390042\n",
            "e:0.08091286307053942\n",
            "x:0.07883817427385892\n",
            "n:0.07468879668049792\n",
            "w:0.06639004149377593\n",
            "u:0.056016597510373446\n",
            "h:0.056016597510373446\n",
            "t:0.04979253112033195\n",
            "d:0.03941908713692946\n",
            "q:0.03319502074688797\n",
            "g:0.03112033195020747\n",
            "c:0.022821576763485476\n",
            "i:0.02074688796680498\n",
            "o:0.01867219917012448\n",
            "p:0.014522821576763486\n",
            "l:0.014522821576763486\n",
            "f:0.014522821576763486\n",
            "b:0.01037344398340249\n",
            "y:0.006224066390041493\n",
            "s:0.006224066390041493\n",
            "m:0.004149377593360996\n",
            "z:0.0\n",
            "j:0.0\n",
            "a:0.0\n"
          ]
        }
      ]
    },
    {
      "cell_type": "code",
      "source": [
        "ciphertext = \"dkxyvrh 1 - qegt vkr hxccwv keur: xuwdr wn cehrq nwvvwtp et vkr hwsrhcxto gwvk krh nwnvrh, gkrt nkr tevwdrn x vxuowtp, duevkrq gkwvr hxccwv gwvk x yedorv gxvdk hit yxnv.\\nnkr leuuegn wv qegt x hxccwv keur gkrt niqqrtub nkr lxuun x uetp gxb ve x dihwein kxuu gwvk fxtb uedorq qeehn el xuu nwmrn.\\nnkr lwtqn x nfxuu orb ve x qeeh vee nfxuu leh krh ve lwv, civ vkheipk gkwdk nkr nrrn xt xvvhxdvwsr pxhqrt.\\nnkr vkrt qwndesrhn x cevvur uxcruurq 'qhwto fr', vkr detvrtvn el gkwdk dxinr krh ve nkhwto vee nfxuu ve hrxdk vkr orb.\\nx dxor gwvk 'rxv fr' et wv dxinrn krh ve pheg ve nidk x vhrfrtqein nwmr krh krxq kwvn vkr drwuwtp.\"\n",
        "ciphertext = ciphertext.replace(\"r\",\"E\")\n",
        "ciphertext = ciphertext.replace(\"x\",\"A\")\n",
        "# ciphertext = ciphertext.replace(\"v\",\"I\")\n",
        "# ciphertext = ciphertext.replace(\"e\",\"S\")\n",
        "# ciphertext = ciphertext.replace(\"r\",\"E\")\n",
        "ciphertext = ciphertext.replace(\"k\",\"H\")\n",
        "ciphertext = ciphertext.replace(\"v\",\"T\")\n",
        "ciphertext = ciphertext.replace(\"e\",\"O\")\n",
        "ciphertext = ciphertext.replace(\"h\",\"R\")\n",
        "ciphertext = ciphertext.replace(\"q\",\"D\")\n",
        "ciphertext = ciphertext.replace(\"d\",\"C\")\n",
        "ciphertext = ciphertext.replace(\"y\",\"P\")\n",
        "ciphertext = ciphertext.replace(\"o\",\"K\")\n",
        "\n",
        "ciphertext = ciphertext.replace(\"g\",\"W\")\n",
        "ciphertext = ciphertext.replace(\"w\",\"I\")\n",
        "ciphertext = ciphertext.replace(\"t\",\"N\")\n",
        "ciphertext = ciphertext.replace(\"c\",\"B\")\n",
        "ciphertext = ciphertext.replace(\"u\",\"L\")\n",
        "ciphertext = ciphertext.replace(\"n\",\"S\")\n",
        "ciphertext = ciphertext.replace(\"p\",\"G\")\n",
        "ciphertext = ciphertext.replace(\"s\",\"V\")\n",
        "ciphertext = ciphertext.replace(\"l\",\"F\")\n",
        "ciphertext = ciphertext.replace(\"i\",\"U\")\n",
        "ciphertext = ciphertext.replace(\"b\",\"Y\")\n",
        "ciphertext = ciphertext.replace(\"f\",\"M\")\n",
        "ciphertext = ciphertext.replace(\"m\",\"D\")\n",
        "print(ciphertext)"
      ],
      "metadata": {
        "colab": {
          "base_uri": "https://localhost:8080/",
          "height": 0
        },
        "id": "TktWSOiYE4XW",
        "outputId": "7d8bcedc-227b-47f0-910f-bfd2207004a9"
      },
      "execution_count": 11,
      "outputs": [
        {
          "output_type": "stream",
          "name": "stdout",
          "text": [
            "CHAPTER 1 - DOWN THE RABBIT HOLE: ALICE IS BORED SITTING ON THE RIVERBANK WITH HER SISTER, WHEN SHE NOTICES A TALKING, CLOTHED WHITE RABBIT WITH A POCKET WATCH RUN PAST.\n",
            "SHE FOLLOWS IT DOWN A RABBIT HOLE WHEN SUDDENLY SHE FALLS A LONG WAY TO A CURIOUS HALL WITH MANY LOCKED DOORS OF ALL SIDES.\n",
            "SHE FINDS A SMALL KEY TO A DOOR TOO SMALL FOR HER TO FIT, BUT THROUGH WHICH SHE SEES AN ATTRACTIVE GARDEN.\n",
            "SHE THEN DISCOVERS A BOTTLE LABELLED 'DRINK ME', THE CONTENTS OF WHICH CAUSE HER TO SHRINK TOO SMALL TO REACH THE KEY.\n",
            "A CAKE WITH 'EAT ME' ON IT CAUSES HER TO GROW TO SUCH A TREMENDOUS SIDE HER HEAD HITS THE CEILING.\n"
          ]
        }
      ]
    }
  ]
}