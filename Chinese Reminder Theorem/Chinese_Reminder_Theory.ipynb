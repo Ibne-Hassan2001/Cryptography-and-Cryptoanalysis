{
  "nbformat": 4,
  "nbformat_minor": 0,
  "metadata": {
    "colab": {
      "provenance": []
    },
    "kernelspec": {
      "name": "python3",
      "display_name": "Python 3"
    },
    "language_info": {
      "name": "python"
    }
  },
  "cells": [
    {
      "cell_type": "code",
      "execution_count": 16,
      "metadata": {
        "colab": {
          "base_uri": "https://localhost:8080/"
        },
        "id": "PPUJkpblRB-i",
        "outputId": "62b42a30-e196-43ab-f16c-d2fc7c019e2b"
      },
      "outputs": [
        {
          "output_type": "stream",
          "name": "stdout",
          "text": [
            "7446927644895231780144668992\n",
            "1952805748\n"
          ]
        }
      ],
      "source": [
        "import math\n",
        "def modInverse(A, M):\n",
        "    for X in range(1, M):\n",
        "        if (((A % M) * (X % M)) % M == 1):\n",
        "            return X\n",
        "    return -1\n",
        "\n",
        "e = 3\n",
        "\n",
        "N1 =  2015805937\n",
        "N2 =  3148630007\n",
        "N3 =  1883043919\n",
        "\n",
        "C1 = 1632893752\n",
        "C2 = 1226329111\n",
        "C3 = 425882503\n",
        "\n",
        "M1 = N1\n",
        "M2 = N2\n",
        "M3 = N3\n",
        "\n",
        "a1 = C1\n",
        "a2 = C2\n",
        "a3 = C3\n",
        "\n",
        "x = 0\n",
        "\n",
        "for i in range(1,4):\n",
        "  if(i==1):\n",
        "    v1 = M3*M2\n",
        "    val = modInverse((v1), M1);\n",
        "    val *= (M2*M3*a1)\n",
        "    x += val\n",
        "  elif(i==2):\n",
        "    v2 = (M1*M3)\n",
        "    val = modInverse(v2, M2);\n",
        "    val *= (M1*M3*a2)\n",
        "    x += val\n",
        "  elif(i==3):\n",
        "    v3 = M1*M2\n",
        "    val = modInverse((v3), M3);\n",
        "    val *= (M1*M2*a3)\n",
        "    x += val\n",
        "vv = (x%(M1*M2*M3))\n",
        "print(vv)\n",
        "print(round(math.pow(vv, 1/3)))"
      ]
    },
    {
      "cell_type": "code",
      "source": [
        "def modInverse(A, M):\n",
        "    for X in range(1, M):\n",
        "        if (((A % M) * (X % M)) % M == 1):\n",
        "            return X\n",
        "    return -1\n",
        "print(modInverse((8645), 33));\n",
        "print(1.1+2.2)"
      ],
      "metadata": {
        "colab": {
          "base_uri": "https://localhost:8080/"
        },
        "id": "UZsfEAuYRYCI",
        "outputId": "bc2c98f7-38b9-4796-9b94-39590ca38b06"
      },
      "execution_count": 17,
      "outputs": [
        {
          "output_type": "stream",
          "name": "stdout",
          "text": [
            "32\n",
            "3.3000000000000003\n"
          ]
        }
      ]
    },
    {
      "cell_type": "code",
      "source": [],
      "metadata": {
        "id": "NRsPGGOpgzDm"
      },
      "execution_count": null,
      "outputs": []
    },
    {
      "cell_type": "code",
      "source": [],
      "metadata": {
        "id": "hqI0uFuGgzO1"
      },
      "execution_count": null,
      "outputs": []
    }
  ]
}