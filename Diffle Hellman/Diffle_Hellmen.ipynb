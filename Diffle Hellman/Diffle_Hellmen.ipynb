{
  "nbformat": 4,
  "nbformat_minor": 0,
  "metadata": {
    "colab": {
      "provenance": []
    },
    "kernelspec": {
      "name": "python3",
      "display_name": "Python 3"
    },
    "language_info": {
      "name": "python"
    }
  },
  "cells": [
    {
      "cell_type": "code",
      "execution_count": 11,
      "metadata": {
        "colab": {
          "base_uri": "https://localhost:8080/"
        },
        "id": "1PNcp2VFbY-K",
        "outputId": "559ca882-1029-463a-f9d1-4d32b6b85286"
      },
      "outputs": [
        {
          "output_type": "stream",
          "name": "stdout",
          "text": [
            "11\n",
            "11\n",
            "Matched\n"
          ]
        }
      ],
      "source": [
        "\n",
        "import math\n",
        "P = 23\n",
        "G = 9\n",
        "a = 5\n",
        "b = 7\n",
        "\n",
        "k1 =  G^a\n",
        "x = k1 % P\n",
        "\n",
        "k2 =  G^b\n",
        "y = k2 % P\n",
        "\n",
        "kx1 =  y^a\n",
        "kx1 =  kx1 % P\n",
        "\n",
        "kx2 = x^b\n",
        "kx2 =  kx2 % P\n",
        "print(kx1)\n",
        "print(kx2)\n",
        "\n",
        "if(int(kx1)==int(kx2)):\n",
        "  print(\"Matched\")\n",
        "else :\n",
        "  print(\"Not Matched\")\n"
      ]
    }
  ]
}